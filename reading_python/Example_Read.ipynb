{
 "cells": [
  {
   "cell_type": "code",
   "execution_count": 1,
   "metadata": {
    "collapsed": false
   },
   "outputs": [
    {
     "name": "stdout",
     "output_type": "stream",
     "text": [
      "The original temperatures in Fahrenheit were: \n",
      "35.0 48.0 81.0 78.0 30.0\n",
      "The converted temperatures in Celsius are: \n",
      "37.22222222222222 44.44444444444444 62.77777777777778 61.111111111111114 34.44444444444444\n",
      "The converted temperatures in Kelvin are: \n",
      "310.3722222222222 317.59444444444443 335.92777777777775 334.26111111111106 307.59444444444443\n",
      "The mean temperature in Celsius is: 48.0\n",
      "The mean temperature in Fahrenheit is: 54.4\n",
      "The mean temperature in Kelvin is: 321.15\n"
     ]
    }
   ],
   "source": [
    "infile = open('input.txt','r')\n",
    "\n",
    "# This line will read in one line from the file, split the line on the commas and assign the values\n",
    "# to the variables on the left hand side. Note that you can put all five variables on the left hand side.\n",
    "tmpf1 = infile.readline()\n",
    "tmpf2 = infile.readline()\n",
    "tmpf3 = infile.readline()\n",
    "tmpf4 = infile.readline()\n",
    "tmpf5 = infile.readline()\n",
    "\n",
    "# This line closes the file for reading.\n",
    "infile.close()\n",
    "\n",
    "# This series converts the read in temperatures from strings to floats\n",
    "tmpf1 = float(tmpf1)\n",
    "tmpf2 = float(tmpf2)\n",
    "tmpf3 = float(tmpf3)\n",
    "tmpf4 = float(tmpf4)\n",
    "tmpf5 = float(tmpf5)\n",
    "\n",
    "tmpc1 = (5/9)*(tmpf1 + 32)\n",
    "tmpc2 = (5/9)*(tmpf2 + 32)\n",
    "tmpc3 = (5/9)*(tmpf3 + 32)\n",
    "tmpc4 = (5/9)*(tmpf4 + 32)\n",
    "tmpc5 = (5/9)*(tmpf5 + 32)\n",
    "\n",
    "# This is my code from the Fortran program, unchanged,\n",
    "# to calculate the different temperatures and compute the means!\n",
    "tmpk1 = 273.15 + tmpc1\n",
    "tmpk2 = 273.15 + tmpc2\n",
    "tmpk3 = 273.15 + tmpc3\n",
    "tmpk4 = 273.15 + tmpc4\n",
    "tmpk5 = 273.15 + tmpc5\n",
    "\n",
    "meanc = (tmpc1 + tmpc2 + tmpc3 + tmpc4 + tmpc5)/5.\n",
    "meanf = (tmpf1 + tmpf2 + tmpf3 + tmpf4 + tmpf5)/5.\n",
    "meank = (tmpk1 + tmpk2 + tmpk3 + tmpk4 + tmpk5)/5.\n",
    "\n",
    "# Printing some output to the screen for your viewing pleasure!\n",
    "print(\"The original temperatures in Fahrenheit were: \")\n",
    "print(tmpf1, tmpf2, tmpf3, tmpf4, tmpf5)\n",
    "print(\"The converted temperatures in Celsius are: \")\n",
    "print(tmpc1, tmpc2, tmpc3, tmpc4, tmpc5)\n",
    "print(\"The converted temperatures in Kelvin are: \")\n",
    "print(tmpk1, tmpk2, tmpk3, tmpk4, tmpk5)\n",
    "print(\"The mean temperature in Celsius is: \"+str(meanc))\n",
    "print(\"The mean temperature in Fahrenheit is: \"+str(meanf))\n",
    "print(\"The mean temperature in Kelvin is: \"+str(meank))"
   ]
  },
  {
   "cell_type": "code",
   "execution_count": null,
   "metadata": {
    "collapsed": true
   },
   "outputs": [],
   "source": []
  }
 ],
 "metadata": {
  "anaconda-cloud": {},
  "kernelspec": {
   "display_name": "Python [conda root]",
   "language": "python",
   "name": "conda-root-py"
  },
  "language_info": {
   "codemirror_mode": {
    "name": "ipython",
    "version": 3
   },
   "file_extension": ".py",
   "mimetype": "text/x-python",
   "name": "python",
   "nbconvert_exporter": "python",
   "pygments_lexer": "ipython3",
   "version": "3.5.3"
  }
 },
 "nbformat": 4,
 "nbformat_minor": 2
}
